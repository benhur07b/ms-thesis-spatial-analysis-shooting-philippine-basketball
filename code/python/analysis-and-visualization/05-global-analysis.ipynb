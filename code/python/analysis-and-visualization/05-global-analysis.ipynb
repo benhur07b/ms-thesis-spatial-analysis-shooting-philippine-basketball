{
 "cells": [
  {
   "cell_type": "code",
   "execution_count": 1,
   "metadata": {},
   "outputs": [],
   "source": [
    "%matplotlib inline\n",
    "import os.path\n",
    "import numpy as np\n",
    "import pandas as pd\n",
    "from scipy import stats\n",
    "import matplotlib.pyplot as plt\n",
    "from matplotlib.patches import Circle, Rectangle, Arc"
   ]
  },
  {
   "cell_type": "code",
   "execution_count": 2,
   "metadata": {},
   "outputs": [],
   "source": [
    "def load_data(dirname, filename):\n",
    "    currdir = os.getcwd()\n",
    "    datadir = os.path.abspath(os.path.join(currdir, dirname))\n",
    "    return os.path.abspath(os.path.join(datadir, filename))"
   ]
  },
  {
   "cell_type": "code",
   "execution_count": 3,
   "metadata": {},
   "outputs": [],
   "source": [
    "def generate_xy_grids(xrange, yrange):\n",
    "    x = np.arange(xrange[0], xrange[1], xrange[2])\n",
    "    y = np.arange(yrange[0], yrange[1], yrange[2])\n",
    "\n",
    "    return np.meshgrid(x, y)"
   ]
  },
  {
   "cell_type": "code",
   "execution_count": 4,
   "metadata": {},
   "outputs": [],
   "source": [
    "dirname = '../../../outputs/'\n",
    "ebppa = 'ebppa/ebppa.csv'\n",
    "ebppa_wc = 'ebppa/ebppa-with-cell.csv'\n",
    "outdir = '../../../outputs/global-stats'"
   ]
  },
  {
   "cell_type": "code",
   "execution_count": 5,
   "metadata": {},
   "outputs": [],
   "source": [
    "df_ebppa = pd.read_csv(load_data(dirname, ebppa_wc))\n",
    "np_ebppa = df_ebppa.to_numpy()\n",
    "\n",
    "playersfg = 'players-fg/players-fg-retained.csv'\n",
    "playersfg_all = 'players-fg/players-fg-all.csv'\n",
    "\n",
    "df_fg = pd.read_csv(load_data(dirname, playersfg_all))\n",
    "np_fg = df_fg.to_numpy()"
   ]
  },
  {
   "cell_type": "code",
   "execution_count": 6,
   "metadata": {},
   "outputs": [],
   "source": [
    "XX,YY = generate_xy_grids((-75,75,5), (-15,125,5))    #xx = array of x-coordinates; yy = array of y-coordinates\n",
    "GRID_Y, GRID_X = XX.shape                             # gridy = number of rows = cells along sideline (y); gridx = number of cols = cells along baseline (x);\n",
    "\n",
    "# grid_fga = np.empty(xx.shape)\n",
    "# grid_fg = np.empty(xx.shape)\n",
    "# grid_pts = np.empty(xx.shape)\n",
    "# grid_ppa = np.empty(xx.shape)"
   ]
  },
  {
   "cell_type": "code",
   "execution_count": 7,
   "metadata": {},
   "outputs": [],
   "source": [
    "def get_player_fg_grid(player):\n",
    "      \n",
    "    df_player = df_fg[df_fg.player==player]\n",
    "    grid_fga = np.empty(XX.shape)\n",
    "    grid_fg = np.empty(XX.shape)\n",
    "    grid_pts = np.empty(XX.shape)\n",
    "    grid_ppa = np.empty(XX.shape)\n",
    "    \n",
    "    for y in range(0, GRID_Y):\n",
    "        for x in range(0, GRID_X):\n",
    "            fga = df_player[(df_player.x.isin(range(XX[y][x],XX[y][x] + 5))) & (df_player.y.isin(range(YY[y][x],YY[y][x] + 5)))]\n",
    "            fg = df_player[(df_player.x.isin(range(XX[y][x],XX[y][x] + 5))) & (df_player.y.isin(range(YY[y][x],YY[y][x] + 5))) & (df_player.made==1)]\n",
    "            pts = fg.made_points.sum()\n",
    "            if len(fga) > 0:\n",
    "                ppa = pts/len(fga)\n",
    "            else:\n",
    "                ppa = 0\n",
    "\n",
    "            grid_fga[y][x] = len(fga)\n",
    "            grid_fg[y][x] = len(fg)\n",
    "            grid_pts[y][x] = pts\n",
    "            grid_ppa[y][x] = ppa\n",
    "    \n",
    "    return {'fga': grid_fga, 'fg': grid_fg, 'pts': grid_pts, 'ppa': grid_ppa, 'team': df_player['team'].unique()[0]}\n",
    "    "
   ]
  },
  {
   "cell_type": "code",
   "execution_count": 8,
   "metadata": {},
   "outputs": [],
   "source": [
    "def get_team_fg_grid(team):\n",
    "      \n",
    "    df_team = df_fg[df_fg.team==team]\n",
    "    grid_fga = np.empty(XX.shape)\n",
    "    grid_fg = np.empty(XX.shape)\n",
    "    grid_pts = np.empty(XX.shape)\n",
    "    grid_ppa = np.empty(XX.shape)\n",
    "    \n",
    "    for y in range(0, GRID_Y):\n",
    "        for x in range(0, GRID_X):\n",
    "            fga = df_team[(df_team.x.isin(range(XX[y][x],XX[y][x] + 5))) & (df_team.y.isin(range(YY[y][x],YY[y][x] + 5)))]\n",
    "            fg = df_team[(df_team.x.isin(range(XX[y][x],XX[y][x] + 5))) & (df_team.y.isin(range(YY[y][x],YY[y][x] + 5))) & (df_team.made==1)]\n",
    "            pts = fg.made_points.sum()\n",
    "            if len(fga) > 0:\n",
    "                ppa = pts/len(fga)\n",
    "            else:\n",
    "                ppa = 0\n",
    "\n",
    "            grid_fga[y][x] = len(fga)\n",
    "            grid_fg[y][x] = len(fg)\n",
    "            grid_pts[y][x] = pts\n",
    "            grid_ppa[y][x] = ppa\n",
    "    \n",
    "    return {'fga': grid_fga, 'fg': grid_fg, 'pts': grid_pts, 'ppa': grid_ppa}"
   ]
  },
  {
   "cell_type": "code",
   "execution_count": 9,
   "metadata": {},
   "outputs": [],
   "source": [
    "def get_team_opp_fg_grid(team):\n",
    "      \n",
    "    df_team = df_fg[df_fg.opponent==team]\n",
    "    grid_fga = np.empty(XX.shape)\n",
    "    grid_fg = np.empty(XX.shape)\n",
    "    grid_pts = np.empty(XX.shape)\n",
    "    grid_ppa = np.empty(XX.shape)\n",
    "    \n",
    "    for y in range(0, GRID_Y):\n",
    "        for x in range(0, GRID_X):\n",
    "            fga = df_team[(df_team.x.isin(range(XX[y][x],XX[y][x] + 5))) & (df_team.y.isin(range(YY[y][x],YY[y][x] + 5)))]\n",
    "            fg = df_team[(df_team.x.isin(range(XX[y][x],XX[y][x] + 5))) & (df_team.y.isin(range(YY[y][x],YY[y][x] + 5))) & (df_team.made==1)]\n",
    "            pts = fg.made_points.sum()\n",
    "            if len(fga) > 0:\n",
    "                ppa = pts/len(fga)\n",
    "            else:\n",
    "                ppa = 0\n",
    "\n",
    "            grid_fga[y][x] = len(fga)\n",
    "            grid_fg[y][x] = len(fg)\n",
    "            grid_pts[y][x] = pts\n",
    "            grid_ppa[y][x] = ppa\n",
    "    \n",
    "    return {'fga': grid_fga, 'fg': grid_fg, 'pts': grid_pts, 'ppa': grid_ppa}"
   ]
  },
  {
   "cell_type": "code",
   "execution_count": 10,
   "metadata": {},
   "outputs": [
    {
     "data": {
      "text/plain": [
       "'UST'"
      ]
     },
     "execution_count": 10,
     "metadata": {},
     "output_type": "execute_result"
    }
   ],
   "source": [
    "df_a = df_fg[df_fg.player=='M. Lee']\n",
    "df_a['team'].unique()[0]"
   ]
  },
  {
   "cell_type": "code",
   "execution_count": 11,
   "metadata": {},
   "outputs": [],
   "source": [
    "players = df_fg['player'].unique()\n",
    "teams = df_fg['team'].unique()"
   ]
  },
  {
   "cell_type": "code",
   "execution_count": null,
   "metadata": {},
   "outputs": [],
   "source": []
  },
  {
   "cell_type": "code",
   "execution_count": 12,
   "metadata": {},
   "outputs": [
    {
     "name": "stdout",
     "output_type": "stream",
     "text": [
      "Player: M. Lee\n",
      "PPA: 0.909\n",
      "EPPA: 0.878\n",
      "SScE: 0.031\n"
     ]
    }
   ],
   "source": [
    "pl = 'M. Lee'\n",
    "grid_pl = get_player_fg_grid(pl)\n",
    "ppak = np.sum(grid_pl['pts'])/np.sum(grid_pl['fga'])\n",
    "elptsk = np.multiply(grid_pl['fga'],np_ebppa)\n",
    "eppak = np.sum(elptsk)/np.sum(grid_pl['fga'])\n",
    "print('Player: {}'.format(pl))\n",
    "print('PPA: {}'.format(ppak.round(3)))\n",
    "print('EPPA: {}'.format(eppak.round(3)))\n",
    "print('SScE: {}'.format((ppak - eppak.round(3)).round(3)))"
   ]
  },
  {
   "cell_type": "code",
   "execution_count": 13,
   "metadata": {},
   "outputs": [],
   "source": [
    "stats_players = []\n",
    "\n",
    "for pl in players:\n",
    "    grid_pl = get_player_fg_grid(pl)\n",
    "    team = grid_pl['team']\n",
    "    fga = np.sum(grid_pl['fga'])\n",
    "    fg = np.sum(grid_pl['fg'])\n",
    "    pts = np.sum(grid_pl['pts']).round(0)\n",
    "    ppa = (pts/fga)\n",
    "#     ppa = (np.sum(grid_pl['pts'])/np.sum(grid_pl['fga'])).round(3)\n",
    "    elptsk = (np.multiply(grid_pl['fga'], np_ebppa))\n",
    "    elpts = np.sum(elptsk)\n",
    "    eppa = (elpts/np.sum(grid_pl['fga']))\n",
    "    ssce = (ppa - eppa)\n",
    "    prla = (pts - elpts)\n",
    "    \n",
    "    stats_players.append([pl, team, ssce, prla, eppa, elpts, ppa, pts, fga, fg])\n",
    "\n",
    "# print(stats_players)\n",
    "\n",
    "df_stats_players = pd.DataFrame(stats_players, columns=['player', 'team', 'ssce', 'prla', 'eppa', 'elpts', 'ppa', 'pts', 'fga', 'fg'])\n",
    "\n",
    "df_stats_players.to_csv(\"{}/player-analysis-global-all.csv\".format(outdir), index=False)"
   ]
  },
  {
   "cell_type": "code",
   "execution_count": 14,
   "metadata": {},
   "outputs": [],
   "source": [
    "stats_teams = []\n",
    "\n",
    "for pl in teams:\n",
    "    grid_pl = get_team_fg_grid(pl)\n",
    "    fga = np.sum(grid_pl['fga'])\n",
    "    fg = np.sum(grid_pl['fg'])\n",
    "    pts = np.sum(grid_pl['pts']).round(0)\n",
    "    ppa = (pts/fga)\n",
    "#     ppa = (np.sum(grid_pl['pts'])/np.sum(grid_pl['fga'])).round(3)\n",
    "    elptsk = (np.multiply(grid_pl['fga'], np_ebppa))\n",
    "    elpts = np.sum(elptsk)\n",
    "    eppa = (elpts/np.sum(grid_pl['fga']))\n",
    "    ssce = (ppa - eppa)\n",
    "    prla = (pts - elpts)\n",
    "    \n",
    "    stats_teams.append([pl, ssce, prla, eppa, elpts, ppa, pts, fga, fg])\n",
    "\n",
    "df_stats_teams = pd.DataFrame(stats_teams, columns=['team', 'ssce', 'prla', 'eppa', 'elpts', 'ppa', 'pts', 'fga', 'fg'])\n",
    "\n",
    "df_stats_teams.to_csv(\"{}/team-analysis-global-all.csv\".format(outdir), index=False)"
   ]
  },
  {
   "cell_type": "code",
   "execution_count": 15,
   "metadata": {},
   "outputs": [],
   "source": [
    "stats_teams_opp = []\n",
    "\n",
    "for pl in teams:\n",
    "    grid_pl = get_team_opp_fg_grid(pl)\n",
    "    fga = np.sum(grid_pl['fga'])\n",
    "    fg = np.sum(grid_pl['fg'])\n",
    "    pts = np.sum(grid_pl['pts']).round(0)\n",
    "    ppa = (pts/fga)\n",
    "#     ppa = (np.sum(grid_pl['pts'])/np.sum(grid_pl['fga'])).round(3)\n",
    "    elptsk = (np.multiply(grid_pl['fga'], np_ebppa))\n",
    "    elpts = np.sum(elptsk)\n",
    "    eppa = (elpts/np.sum(grid_pl['fga']))\n",
    "    ssce = (ppa - eppa)\n",
    "    prla = (pts - elpts)\n",
    "    \n",
    "    stats_teams_opp.append([pl, ssce, prla, eppa, elpts, ppa, pts, fga, fg])\n",
    "\n",
    "\n",
    "df_stats_teams_opp = pd.DataFrame(stats_teams_opp, columns=['team', 'opp_ssce', 'opp_prla', 'opp_eppa', 'opp_elpts', 'opp_ppa', 'opp_pts', 'opp_fga', 'opp_fg'])\n",
    "\n",
    "df_stats_teams_opp.to_csv(\"{}/team-analysis-opp-global-all.csv\".format(outdir), index=False)"
   ]
  },
  {
   "cell_type": "code",
   "execution_count": 24,
   "metadata": {},
   "outputs": [
    {
     "name": "stdout",
     "output_type": "stream",
     "text": [
      "ssce, efg: (0.9475262866913157, 2.2328054724871272e-41)\n",
      "prla, efg: (0.8049549698862044, 8.025721719445498e-20)\n",
      "ssce, fga: (0.22048219348546766, 0.04653940097094641)\n",
      "prla, fga: (0.2712097479847027, 0.013717138511119303)\n",
      "ssce, pts: (0.40023820776214625, 0.0001947904498999938)\n",
      "prla, pts: (0.4743505999272797, 6.732025945247733e-06)\n",
      "ssce, pts: SpearmanrResult(correlation=0.5136701910815128, pvalue=8.000631298642925e-07)\n",
      "prla, pts: SpearmanrResult(correlation=0.4404687469365579, pvalue=3.45515301925243e-05)\n",
      "ssce, fga: SpearmanrResult(correlation=0.26141998073348094, pvalue=0.017676311079567766)\n",
      "ssce, fga: KendalltauResult(correlation=0.1955277871559524, pvalue=0.009558011037567185)\n"
     ]
    }
   ],
   "source": [
    "df_stats = pd.read_csv(\"{}/player-analysis-global-complete-retained.csv\".format(outdir), sep=',', header=0)\n",
    "\n",
    "x_ssce = df_stats.ssce.to_numpy()\n",
    "x_prla = df_stats.prla.to_numpy()\n",
    "x_efg = df_stats.efg.to_numpy()\n",
    "x_ppa = df_stats.ppa.to_numpy()\n",
    "x_fga = df_stats.fga.to_numpy()\n",
    "x_pts = df_stats.pts.to_numpy()\n",
    "\n",
    "print('ssce, efg:', stats.pearsonr(x_ssce, x_efg))\n",
    "print('prla, efg:', stats.pearsonr(x_prla, x_efg))\n",
    "# print('ssce, ppa:', stats.pearsonr(x_ssce, x_ppa))\n",
    "print('ssce, fga:', stats.pearsonr(x_ssce, x_fga))\n",
    "print('prla, fga:', stats.pearsonr(x_prla, x_fga))\n",
    "print('ssce, pts:', stats.pearsonr(x_ssce, x_pts))\n",
    "print('prla, pts:', stats.pearsonr(x_prla, x_pts))\n",
    "\n",
    "print('ssce, pts:', stats.spearmanr(x_ssce, x_pts))\n",
    "print('prla, pts:', stats.spearmanr(x_prla, x_pts))\n",
    "print('ssce, fga:', stats.spearmanr(x_ssce, x_fga))\n",
    "print('ssce, fga:', stats.kendalltau(x_ssce, x_fga))\n",
    "\n",
    "# np.corrcoef(x_ssce, x_efg)"
   ]
  },
  {
   "cell_type": "code",
   "execution_count": 22,
   "metadata": {},
   "outputs": [
    {
     "name": "stdout",
     "output_type": "stream",
     "text": [
      "[-0.023  0.079 -0.024  0.025  0.248  0.106  0.114  0.031  0.039  0.021\n",
      "  0.057  0.037 -0.157  0.01  -0.065 -0.172  0.154 -0.058  0.034 -0.017\n",
      "  0.193  0.008 -0.038 -0.091 -0.141  0.041 -0.209  0.09  -0.164 -0.222\n",
      "  0.194 -0.102  0.024 -0.02   0.173 -0.106 -0.041 -0.352 -0.048 -0.045\n",
      " -0.006  0.029 -0.033 -0.227 -0.136 -0.202 -0.091 -0.109  0.21   0.063\n",
      " -0.122  0.126 -0.207  0.165  0.35  -0.091 -0.015 -0.021 -0.021 -0.093\n",
      " -0.4   -0.204 -0.131  0.016 -0.137 -0.312 -0.218  0.014  0.013  0.377\n",
      " -0.148 -0.131 -0.378  0.357  0.1   -0.21   0.18  -0.279 -0.234  0.056\n",
      " -0.257  0.012 -0.398 -0.243 -0.126 -0.186  0.374 -0.65  -0.167  0.217\n",
      " -0.044 -0.218 -0.622  0.303 -0.175 -0.403 -0.295 -0.087  0.18   0.002\n",
      "  0.159  0.089 -0.011 -0.567  0.062 -0.353 -0.269 -0.311  0.316 -0.285\n",
      " -0.099 -0.523 -0.823  0.071 -0.383 -0.517  1.    -0.129 -0.372 -0.979\n",
      " -0.786  1.05  -0.662]\n",
      "[ 46.4  46.3  42.1  46.9  54.6  49.7  59.9  46.   47.7  45.6  48.8  48.3\n",
      "  37.   45.4  43.5  38.1  61.   40.9  45.4  42.9  54.3  50.4  41.   40.1\n",
      "  40.6  45.8  34.   52.1  37.1  36.1  55.1  41.6  44.9  46.9  53.1  36.9\n",
      "  40.5  25.7  45.3  44.5  47.2  46.4  40.3  32.6  33.8  33.6  39.7  40.4\n",
      "  59.5  47.3  38.7  51.   39.2  60.8  72.5  39.   46.   40.   48.   41.7\n",
      "  23.4  34.8  36.4  46.6  40.7  33.7  34.5  46.3  50.   64.9  36.5  44.4\n",
      "  25.   62.9  50.   36.8  54.7  37.1  32.3  51.7  32.1  53.6  24.   35.4\n",
      "  39.6  37.   72.7  18.2  36.4  57.1  47.6  30.6  20.6  58.3  41.2  29.4\n",
      "  31.3  46.7  56.7  46.7  50.   50.   50.   16.7  54.2  20.   35.   22.2\n",
      "  77.8  22.2  28.6  16.7   0.   50.   20.   20.  100.   33.3  33.3   0.\n",
      "   0.  100.    0. ]\n"
     ]
    },
    {
     "data": {
      "text/plain": [
       "(0.9682254094831617, 1.0985088702163026e-74)"
      ]
     },
     "execution_count": 22,
     "metadata": {},
     "output_type": "execute_result"
    }
   ],
   "source": [
    "print(x_ssce)\n",
    "print(x_efg)\n",
    "\n",
    "stats.pearsonr(x_ssce, x_efg)\n"
   ]
  },
  {
   "cell_type": "code",
   "execution_count": 5,
   "metadata": {},
   "outputs": [],
   "source": [
    "df_statscomp = pd.read_csv(\"{}/local-stats/players-statscomp.csv\".format(dirname), sep=',', header=0)"
   ]
  },
  {
   "cell_type": "code",
   "execution_count": 19,
   "metadata": {},
   "outputs": [
    {
     "name": "stdout",
     "output_type": "stream",
     "text": [
      "spread, fga: (0.9368867302077619, 2.921544105783225e-38)\n",
      "erng, spread: (0.9475295383061865, 2.2274190997568516e-41)\n",
      "terng, spread: (0.9475343631751052, 2.219449903869631e-41)\n",
      "perng, spread: (0.07298587064078413, 0.5146342338637064)\n",
      "nerng, spread: (-0.5840069279577185, 8.445860872760016e-09)\n",
      "perng, terng: (0.35222895656446085, 0.001173378503277793)\n",
      "erng, fga: (0.9099973219255078, 2.5143901450239436e-32)\n",
      "terng, fga: (0.9100002645484453, 2.5112508064541203e-32)\n",
      "nerng, fga: (-0.4905984180537591, 2.882544104133367e-06)\n",
      "perng, fga: (0.16513692144938003, 0.1381750708565956)\n"
     ]
    }
   ],
   "source": [
    "x_spread = df_statscomp.fga_cells.to_numpy()\n",
    "x_fga = df_statscomp.fga.to_numpy()\n",
    "x_terng = df_statscomp.terange.to_numpy()\n",
    "x_erng = df_statscomp.erange.to_numpy()\n",
    "x_perng = df_statscomp.perange.to_numpy()\n",
    "x_nerng = df_statscomp.nerange.to_numpy()\n",
    "\n",
    "\n",
    "print('spread, fga:', stats.pearsonr(x_fga, x_spread))\n",
    "print('erng, spread:', stats.pearsonr(x_spread, x_erng))\n",
    "print('terng, spread:', stats.pearsonr(x_spread, x_terng))\n",
    "print('perng, spread:', stats.pearsonr(x_spread, x_perng))\n",
    "print('nerng, spread:', stats.pearsonr(x_spread, x_nerng))\n",
    "print('perng, terng:', stats.pearsonr(x_terng, x_perng))\n",
    "\n",
    "print('erng, fga:', stats.pearsonr(x_fga, x_erng))\n",
    "print('terng, fga:', stats.pearsonr(x_fga, x_terng))\n",
    "print('nerng, fga:', stats.pearsonr(x_fga, x_nerng))\n",
    "print('perng, fga:', stats.pearsonr(x_fga, x_perng))\n"
   ]
  },
  {
   "cell_type": "code",
   "execution_count": 30,
   "metadata": {},
   "outputs": [],
   "source": [
    "df_pythag = pd.read_csv(\"{}/team-analysis/pythag.csv\".format(dirname), sep=',', header=0)"
   ]
  },
  {
   "cell_type": "code",
   "execution_count": 31,
   "metadata": {},
   "outputs": [
    {
     "name": "stdout",
     "output_type": "stream",
     "text": [
      "rank_p, rank_s: (0.7882718469048706, 7.887087358387374e-20)\n",
      "rank_p, rank_s: SpearmanrResult(correlation=0.7882718469048707, pvalue=7.887087358387271e-20)\n",
      "rank_p, rank_s: KendalltauResult(correlation=0.6867537145319339, pvalue=2.197416186617465e-15)\n",
      "pwp, rank_s: (-0.8021582761024976, 5.851128193110695e-21)\n",
      "pwp, rank_s: SpearmanrResult(correlation=-0.7990111471105699, pvalue=1.0739237121665198e-20)\n",
      "pwp, rank_s: KendalltauResult(correlation=-0.6664781243775749, pvalue=6.763127821480967e-16)\n",
      "rank_ps, rank_s: (0.7839352428393522, 1.708105423186334e-19)\n",
      "rank_ps, rank_s: SpearmanrResult(correlation=0.7839352428393523, pvalue=1.7081054231863023e-19)\n",
      "rank_ps, rank_s: KendalltauResult(correlation=0.7351436442345534, pvalue=3.0676749232976136e-15)\n"
     ]
    }
   ],
   "source": [
    "x_pwp = df_pythag.pwp.to_numpy()\n",
    "x_rank_p = df_pythag.rank_p.to_numpy()\n",
    "x_rank_s = df_pythag.rank_s.to_numpy()\n",
    "x_rank_ps = df_pythag.rank_ps.to_numpy()\n",
    "\n",
    "print('rank_p, rank_s:', stats.pearsonr(x_rank_p, x_rank_s))\n",
    "print('rank_p, rank_s:', stats.spearmanr(x_rank_p, x_rank_s))\n",
    "print('rank_p, rank_s:', stats.kendalltau(x_rank_p, x_rank_s))\n",
    "print('pwp, rank_s:', stats.pearsonr(x_pwp, x_rank_s))\n",
    "print('pwp, rank_s:', stats.spearmanr(x_pwp, x_rank_s))\n",
    "print('pwp, rank_s:', stats.kendalltau(x_pwp, x_rank_s))\n",
    "print('rank_ps, rank_s:', stats.pearsonr(x_rank_ps, x_rank_s))\n",
    "print('rank_ps, rank_s:', stats.spearmanr(x_rank_ps, x_rank_s))\n",
    "print('rank_ps, rank_s:', stats.kendalltau(x_rank_ps, x_rank_s))"
   ]
  }
 ],
 "metadata": {
  "kernelspec": {
   "display_name": "Python 3",
   "language": "python",
   "name": "python3"
  },
  "language_info": {
   "codemirror_mode": {
    "name": "ipython",
    "version": 3
   },
   "file_extension": ".py",
   "mimetype": "text/x-python",
   "name": "python",
   "nbconvert_exporter": "python",
   "pygments_lexer": "ipython3",
   "version": "3.8.3"
  }
 },
 "nbformat": 4,
 "nbformat_minor": 4
}
