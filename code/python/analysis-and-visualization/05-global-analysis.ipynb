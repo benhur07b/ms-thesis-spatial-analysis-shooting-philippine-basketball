{
 "cells": [
  {
   "cell_type": "code",
   "execution_count": 1,
   "metadata": {},
   "outputs": [],
   "source": [
    "%matplotlib inline\n",
    "import os.path\n",
    "import numpy as np\n",
    "import pandas as pd\n",
    "import matplotlib.pyplot as plt\n",
    "from matplotlib.patches import Circle, Rectangle, Arc"
   ]
  },
  {
   "cell_type": "code",
   "execution_count": 2,
   "metadata": {},
   "outputs": [],
   "source": [
    "def load_data(dirname, filename):\n",
    "    currdir = os.getcwd()\n",
    "    datadir = os.path.abspath(os.path.join(currdir, dirname))\n",
    "    return os.path.abspath(os.path.join(datadir, filename))"
   ]
  },
  {
   "cell_type": "code",
   "execution_count": 16,
   "metadata": {},
   "outputs": [],
   "source": [
    "def generate_xy_grids(xrange, yrange):\n",
    "    x = np.arange(xrange[0], xrange[1], xrange[2])\n",
    "    y = np.arange(yrange[0], yrange[1], yrange[2])\n",
    "\n",
    "    return np.meshgrid(x, y)"
   ]
  },
  {
   "cell_type": "code",
   "execution_count": 11,
   "metadata": {},
   "outputs": [],
   "source": [
    "dirname = 'outputs/data/'\n",
    "ebppa = 'ebppa_noneg.csv'\n",
    "\n",
    "df_ebppa = pd.read_csv(load_data(dirname, ebppa))\n",
    "np_ebppa = df_ebppa.to_numpy()\n",
    "\n",
    "playersfg = 'players-retained-fg.csv'\n",
    "\n",
    "df_fg = pd.read_csv(load_data(dirname, playersfg))\n",
    "np_fg = df_fg.to_numpy()"
   ]
  },
  {
   "cell_type": "code",
   "execution_count": 24,
   "metadata": {},
   "outputs": [],
   "source": [
    "XX,YY = generate_xy_grids((-75,75,5), (-15,125,5))    #xx = array of x-coordinates; yy = array of y-coordinates\n",
    "GRID_Y, GRID_X = XX.shape                             # gridy = number of rows = cells along sideline (y); gridx = number of cols = cells along baseline (x);\n",
    "\n",
    "# grid_fga = np.empty(xx.shape)\n",
    "# grid_fg = np.empty(xx.shape)\n",
    "# grid_pts = np.empty(xx.shape)\n",
    "# grid_ppa = np.empty(xx.shape)"
   ]
  },
  {
   "cell_type": "code",
   "execution_count": 111,
   "metadata": {},
   "outputs": [],
   "source": [
    "def get_player_fg_grid(player):\n",
    "      \n",
    "    df_player = df_fg[df_fg.player==player]\n",
    "    grid_fga = np.empty(XX.shape)\n",
    "    grid_fg = np.empty(XX.shape)\n",
    "    grid_pts = np.empty(XX.shape)\n",
    "    grid_ppa = np.empty(XX.shape)\n",
    "    \n",
    "    for y in range(0, GRID_Y):\n",
    "        for x in range(0, GRID_X):\n",
    "            fga = df_player[(df_player.x.isin(range(XX[y][x],XX[y][x] + 5))) & (df_player.y.isin(range(YY[y][x],YY[y][x] + 5)))]\n",
    "            fg = df_player[(df_player.x.isin(range(XX[y][x],XX[y][x] + 5))) & (df_player.y.isin(range(YY[y][x],YY[y][x] + 5))) & (df_player.made==1)]\n",
    "            pts = fg.made_points.sum()\n",
    "            if len(fga) > 0:\n",
    "                ppa = pts/len(fga)\n",
    "            else:\n",
    "                ppa = 0\n",
    "\n",
    "            grid_fga[y][x] = len(fga)\n",
    "            grid_fg[y][x] = len(fg)\n",
    "            grid_pts[y][x] = pts\n",
    "            grid_ppa[y][x] = ppa\n",
    "    \n",
    "    return {'fga': grid_fga, 'fg': grid_fg, 'pts': grid_pts, 'ppa': grid_ppa, 'team': df_player['team'].unique()[0]}\n",
    "    "
   ]
  },
  {
   "cell_type": "code",
   "execution_count": 120,
   "metadata": {},
   "outputs": [],
   "source": [
    "def get_team_fg_grid(team):\n",
    "      \n",
    "    df_team = df_fg[df_fg.team==team]\n",
    "    grid_fga = np.empty(XX.shape)\n",
    "    grid_fg = np.empty(XX.shape)\n",
    "    grid_pts = np.empty(XX.shape)\n",
    "    grid_ppa = np.empty(XX.shape)\n",
    "    \n",
    "    for y in range(0, GRID_Y):\n",
    "        for x in range(0, GRID_X):\n",
    "            fga = df_team[(df_team.x.isin(range(XX[y][x],XX[y][x] + 5))) & (df_team.y.isin(range(YY[y][x],YY[y][x] + 5)))]\n",
    "            fg = df_team[(df_team.x.isin(range(XX[y][x],XX[y][x] + 5))) & (df_team.y.isin(range(YY[y][x],YY[y][x] + 5))) & (df_team.made==1)]\n",
    "            pts = fg.made_points.sum()\n",
    "            if len(fga) > 0:\n",
    "                ppa = pts/len(fga)\n",
    "            else:\n",
    "                ppa = 0\n",
    "\n",
    "            grid_fga[y][x] = len(fga)\n",
    "            grid_fg[y][x] = len(fg)\n",
    "            grid_pts[y][x] = pts\n",
    "            grid_ppa[y][x] = ppa\n",
    "    \n",
    "    return {'fga': grid_fga, 'fg': grid_fg, 'pts': grid_pts, 'ppa': grid_ppa}"
   ]
  },
  {
   "cell_type": "code",
   "execution_count": 122,
   "metadata": {},
   "outputs": [],
   "source": [
    "def get_team_opp_fg_grid(team):\n",
    "      \n",
    "    df_team = df_fg[df_fg.opponent==team]\n",
    "    grid_fga = np.empty(XX.shape)\n",
    "    grid_fg = np.empty(XX.shape)\n",
    "    grid_pts = np.empty(XX.shape)\n",
    "    grid_ppa = np.empty(XX.shape)\n",
    "    \n",
    "    for y in range(0, GRID_Y):\n",
    "        for x in range(0, GRID_X):\n",
    "            fga = df_team[(df_team.x.isin(range(XX[y][x],XX[y][x] + 5))) & (df_team.y.isin(range(YY[y][x],YY[y][x] + 5)))]\n",
    "            fg = df_team[(df_team.x.isin(range(XX[y][x],XX[y][x] + 5))) & (df_team.y.isin(range(YY[y][x],YY[y][x] + 5))) & (df_team.made==1)]\n",
    "            pts = fg.made_points.sum()\n",
    "            if len(fga) > 0:\n",
    "                ppa = pts/len(fga)\n",
    "            else:\n",
    "                ppa = 0\n",
    "\n",
    "            grid_fga[y][x] = len(fga)\n",
    "            grid_fg[y][x] = len(fg)\n",
    "            grid_pts[y][x] = pts\n",
    "            grid_ppa[y][x] = ppa\n",
    "    \n",
    "    return {'fga': grid_fga, 'fg': grid_fg, 'pts': grid_pts, 'ppa': grid_ppa}"
   ]
  },
  {
   "cell_type": "code",
   "execution_count": 110,
   "metadata": {},
   "outputs": [
    {
     "data": {
      "text/plain": [
       "'UST'"
      ]
     },
     "execution_count": 110,
     "metadata": {},
     "output_type": "execute_result"
    }
   ],
   "source": [
    "df_a = df_fg[df_fg.player=='M. Lee']\n",
    "df_a['team'].unique()[0]"
   ]
  },
  {
   "cell_type": "code",
   "execution_count": 118,
   "metadata": {},
   "outputs": [],
   "source": [
    "players = df_fg['player'].unique()\n",
    "teams = df_fg['team'].unique()"
   ]
  },
  {
   "cell_type": "code",
   "execution_count": 119,
   "metadata": {},
   "outputs": [
    {
     "data": {
      "text/plain": [
       "array(['NU', 'UST', 'FEU', 'DLSU', 'ADMU', 'ADU', 'UP', 'UE'],\n",
       "      dtype=object)"
      ]
     },
     "execution_count": 119,
     "metadata": {},
     "output_type": "execute_result"
    }
   ],
   "source": []
  },
  {
   "cell_type": "code",
   "execution_count": 81,
   "metadata": {},
   "outputs": [
    {
     "name": "stdout",
     "output_type": "stream",
     "text": [
      "Player: M. Lee\n",
      "PPA: 0.909\n",
      "EPPA: 0.885\n",
      "SScE: 0.024\n"
     ]
    }
   ],
   "source": [
    "pl = 'M. Lee'\n",
    "grid_pl = get_player_fg_grid(pl)\n",
    "ppak = np.sum(grid_pl['pts'])/np.sum(grid_pl['fga'])\n",
    "elptsk = np.multiply(grid_pl['fga'],np_ebppa)\n",
    "eppak = np.sum(elptsk)/np.sum(grid_pl['fga'])\n",
    "print('Player: {}'.format(pl))\n",
    "print('PPA: {}'.format(ppak.round(3)))\n",
    "print('EPPA: {}'.format(eppak.round(3)))\n",
    "print('SScE: {}'.format((ppak - eppak.round(3)).round(3)))"
   ]
  },
  {
   "cell_type": "code",
   "execution_count": 116,
   "metadata": {},
   "outputs": [],
   "source": [
    "stats_players = []\n",
    "\n",
    "for pl in players:\n",
    "    grid_pl = get_player_fg_grid(pl)\n",
    "    team = grid_pl['team']\n",
    "    fga = np.sum(grid_pl['fga'])\n",
    "    fg = np.sum(grid_pl['fg'])\n",
    "    pts = np.sum(grid_pl['pts']).round(0)\n",
    "    ppa = (pts/fga).round(3)\n",
    "#     ppa = (np.sum(grid_pl['pts'])/np.sum(grid_pl['fga'])).round(3)\n",
    "    elptsk = (np.multiply(grid_pl['fga'], np_ebppa)).round(3)\n",
    "    elpts = np.sum(elptsk).round(3)\n",
    "    eppa = (elpts/np.sum(grid_pl['fga'])).round(3)\n",
    "    ssce = (ppa - eppa).round(3)\n",
    "    prla = (pts - elpts).round(3)\n",
    "    \n",
    "    stats_players.append([pl, team, ssce, prla, eppa, elpts, ppa, pts, fga, fg])\n",
    "\n",
    "# print(stats_players)\n",
    "\n",
    "df_stats_players = pd.DataFrame(stats_players, columns=['player', 'team', 'ssce', 'prla', 'eppa', 'elpts', 'ppa', 'pts', 'fga', 'fg'])\n",
    "\n",
    "df_stats_players.to_csv(\"outputs/data/global-stats/player-analysis-global.csv\", index=False)"
   ]
  },
  {
   "cell_type": "code",
   "execution_count": 124,
   "metadata": {},
   "outputs": [],
   "source": [
    "stats_teams = []\n",
    "\n",
    "for pl in teams:\n",
    "    grid_pl = get_team_fg_grid(pl)\n",
    "    fga = np.sum(grid_pl['fga'])\n",
    "    fg = np.sum(grid_pl['fg'])\n",
    "    pts = np.sum(grid_pl['pts']).round(0)\n",
    "    ppa = (pts/fga).round(3)\n",
    "#     ppa = (np.sum(grid_pl['pts'])/np.sum(grid_pl['fga'])).round(3)\n",
    "    elptsk = (np.multiply(grid_pl['fga'], np_ebppa)).round(3)\n",
    "    elpts = np.sum(elptsk).round(3)\n",
    "    eppa = (elpts/np.sum(grid_pl['fga'])).round(3)\n",
    "    ssce = (ppa - eppa).round(3)\n",
    "    prla = (pts - elpts).round(3)\n",
    "    \n",
    "    stats_teams.append([pl, ssce, prla, eppa, elpts, ppa, pts, fga, fg])\n",
    "\n",
    "df_stats_teams = pd.DataFrame(stats_teams, columns=['team', 'ssce', 'prla', 'eppa', 'elpts', 'ppa', 'pts', 'fga', 'fg'])\n",
    "\n",
    "df_stats_teams.to_csv(\"outputs/data/global-stats/team-analysis-global.csv\", index=False)"
   ]
  },
  {
   "cell_type": "code",
   "execution_count": 125,
   "metadata": {},
   "outputs": [],
   "source": [
    "stats_teams_opp = []\n",
    "\n",
    "for pl in teams:\n",
    "    grid_pl = get_team_opp_fg_grid(pl)\n",
    "    fga = np.sum(grid_pl['fga'])\n",
    "    fg = np.sum(grid_pl['fg'])\n",
    "    pts = np.sum(grid_pl['pts']).round(0)\n",
    "    ppa = (pts/fga).round(3)\n",
    "#     ppa = (np.sum(grid_pl['pts'])/np.sum(grid_pl['fga'])).round(3)\n",
    "    elptsk = (np.multiply(grid_pl['fga'], np_ebppa)).round(3)\n",
    "    elpts = np.sum(elptsk).round(3)\n",
    "    eppa = (elpts/np.sum(grid_pl['fga'])).round(3)\n",
    "    ssce = (ppa - eppa).round(3)\n",
    "    prla = (pts - elpts).round(3)\n",
    "    \n",
    "    stats_teams_opp.append([pl, ssce, prla, eppa, elpts, ppa, pts, fga, fg])\n",
    "\n",
    "\n",
    "df_stats_teams_opp = pd.DataFrame(stats_teams_opp, columns=['team', 'opp_ssce', 'opp_prla', 'opp_eppa', 'opp_elpts', 'opp_ppa', 'opp_pts', 'opp_fga', 'opp_fg'])\n",
    "\n",
    "df_stats_teams_opp.to_csv(\"outputs/data/global-stats/team-analysis-opp-global.csv\", index=False)"
   ]
  }
 ],
 "metadata": {
  "kernelspec": {
   "display_name": "Python 3",
   "language": "python",
   "name": "python3"
  },
  "language_info": {
   "codemirror_mode": {
    "name": "ipython",
    "version": 3
   },
   "file_extension": ".py",
   "mimetype": "text/x-python",
   "name": "python",
   "nbconvert_exporter": "python",
   "pygments_lexer": "ipython3",
   "version": "3.8.3"
  }
 },
 "nbformat": 4,
 "nbformat_minor": 4
}
