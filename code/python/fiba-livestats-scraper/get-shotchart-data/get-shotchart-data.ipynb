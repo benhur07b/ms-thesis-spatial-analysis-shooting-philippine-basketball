{
 "cells": [
  {
   "cell_type": "markdown",
   "metadata": {},
   "source": [
    "## Find [gameid] of games by a specific league in FIBA LiveStats\n",
    "\n",
    "**baseurl**: https://www.fibalivestats.com/u/[league]/[game_id]/sc.html\n",
    "\n",
    "[league] is the name of the league (e.g. UAAP)\n",
    "[gameid] is the gameid for the specific game (e.g. 936275)\n",
    "\n",
    "For example, the shotchart of the game between NU and UST during UAAP Season 81 (gameid:936275) is stored in FIBA LiveStats at: https://www.fibalivestats.com/u/UAAP/936275/sc.html"
   ]
  },
  {
   "cell_type": "code",
   "execution_count": null,
   "metadata": {},
   "outputs": [],
   "source": [
    "import requests\n",
    "\n",
    "league = 'UAAP'    # the league you want to scrape data from\n",
    "clue = '(Seniors Division)'    # a piece of text that appears on the webpage if the game/webpage exists, should be changed accordingly\n",
    "baseurl = 'https://www.fibalivestats.com/u/{}'.format(league)  \n",
    "start_id = 5000\n",
    "end_id = 10000\n",
    "\n",
    "for g_id in range(start_id, end_id + 1):     \n",
    "# for g_id in range(end_id, start_id, -1):    # use this if you want to search from end_id to start_id\n",
    "    url = \"{}/{}/\".format(baseurl, g_id)\n",
    "    resp = requests.get(url)\n",
    "    if resp.status_code == 200 and resp.text.find(clue) > -1:   # if the webpage and the clue exists, get the URL\n",
    "        print(url)\n",
    "    else:\n",
    "        pass\n",
    "#         print(g_id)\n",
    "#     print(\"{}: {}\".format(g_id, resp.status_code))\n"
   ]
  },
  {
   "cell_type": "markdown",
   "metadata": {},
   "source": [
    "Once you have a list of URLS, you can:\n",
    "1. use the URLS directly in the next step\n",
    "2. download the whole HTML file\n",
    "3. download the parts of the HTML with **div id=\"shotchart_data\"** (this is contains the shot chart information)\n",
    "    - you can add another div with **id=gameInfo** to and add a class inside it with the following information: class=\"date team opponent venue\"\n",
    "    - see [sample shotchart data](/sample-shotchart-html/936275.txt)"
   ]
  },
  {
   "cell_type": "markdown",
   "metadata": {},
   "source": [
    "## Extract information from LiveStats shot chart HTML"
   ]
  },
  {
   "cell_type": "code",
   "execution_count": null,
   "metadata": {},
   "outputs": [],
   "source": [
    "from bs4 import BeautifulSoup\n",
    "import pprint\n",
    "import csv\n",
    "import pandas as pd"
   ]
  },
  {
   "cell_type": "markdown",
   "metadata": {},
   "source": [
    "### Extract the data for one game/file"
   ]
  },
  {
   "cell_type": "code",
   "execution_count": null,
   "metadata": {},
   "outputs": [],
   "source": [
    "shotchartfile = gameid\n",
    "white = ''\n",
    "black = ''\n",
    "fg_list = []\n",
    "with open(shotchartfile) as f:\n",
    "    soup = BeautifulSoup(f, 'html.parser')\n",
    "    game_info = soup.find_all(id='gameInfo')\n",
    "    date, white, black, venue = game_info[0].attrs['class']\n",
    "    shots = soup.find_all('span')\n",
    "    for shot in shots:\n",
    "        classes = shot.attrs['class']\n",
    "        loc = shot.attrs['style']\n",
    "        sh_info = shot.attrs['title']\n",
    "        team0, made0 = classes[1].split('_')\n",
    "        if team0 == 'white':\n",
    "            team0 = white\n",
    "            opp0 = black\n",
    "        else:\n",
    "            team0 = black\n",
    "            opp0 = white\n",
    "        if made0 == 'made':\n",
    "            made0 = 1\n",
    "        else:\n",
    "            made0 = 0\n",
    "        bottom0, left0 = [float(p.split(': ')[1].strip('%')) for p in loc.split(';')[:2]]\n",
    "        if left0 > 50:\n",
    "            bottom0 = 100 - bottom0\n",
    "            left0 = 100 - left0\n",
    "        \n",
    "        # in meters\n",
    "        bottom0 = (100 - bottom0) * 0.15\n",
    "        left0 = left0 * 0.28\n",
    "        \n",
    "        # if basket is origin\n",
    "        bottom0 = bottom0 - 7.5\n",
    "        left0 = left0 - 1.43\n",
    "        \n",
    "        # if 10cm cell\n",
    "        bottom0 = int(bottom0/0.1)\n",
    "        left0 = int(left0/0.1)\n",
    "        \n",
    "        num0, player0, pt_type0 = sh_info.split(', ')\n",
    "        pt_, sh_type0 = pt_type0.split('pt ')\n",
    "        pt0 = int(pt_)\n",
    "        info = {\n",
    "            'team': team0,\n",
    "            'opponent': opp0,\n",
    "            'made': made0,\n",
    "            'x': bottom0,\n",
    "            'y': left0,\n",
    "            'num': num0,\n",
    "            'player': player0,\n",
    "            'points': pt0,\n",
    "            'shot_type': sh_type0,\n",
    "            'date': date,\n",
    "            'venue': venue\n",
    "        }\n",
    "        fg_list.append(info)"
   ]
  },
  {
   "cell_type": "markdown",
   "metadata": {},
   "source": [
    "### Extract the data from a list of shotchart files"
   ]
  },
  {
   "cell_type": "code",
   "execution_count": null,
   "metadata": {},
   "outputs": [],
   "source": [
    "games = []   # add location of files here\n",
    "\n",
    "fg_list = []\n",
    "for game in games:\n",
    "    with open('{}'.format(game)) as f:\n",
    "        soup = BeautifulSoup(f, 'html.parser')\n",
    "        game_info = soup.find_all(id='gameInfo')\n",
    "        date, white, black, venue = game_info[0].attrs['class']\n",
    "        shots = soup.find_all('span')\n",
    "        for shot in shots:\n",
    "            classes = shot.attrs['class']\n",
    "            loc = shot.attrs['style']\n",
    "            sh_info = shot.attrs['title']\n",
    "            team0, made0 = classes[1].split('_')\n",
    "            if team0 == 'white':\n",
    "                team0 = white\n",
    "                opp0 = black\n",
    "            else:\n",
    "                team0 = black\n",
    "                opp0 = white\n",
    "            if made0 == 'made':\n",
    "                made0 = 1\n",
    "            else:\n",
    "                made0 = 0\n",
    "            bottom0, left0 = [float(p.split(': ')[1].strip('%')) for p in loc.split(';')[:2]]\n",
    "            if left0 > 50:\n",
    "                bottom0 = 100 - bottom0\n",
    "                left0 = 100 - left0\n",
    "\n",
    "            # in meters\n",
    "            bottom0 = (100 - bottom0) * 0.15\n",
    "            left0 = left0 * 0.28\n",
    "\n",
    "            # if basket is origin\n",
    "            bottom0 = bottom0 - 7.5\n",
    "            left0 = left0 - 1.43\n",
    "\n",
    "            # if 10cm cell\n",
    "            bottom0 = int(bottom0/0.1)\n",
    "            left0 = int(left0/0.1)\n",
    "\n",
    "            num0, player0, pt_type0 = sh_info.split(', ')\n",
    "            pt_, sh_type0 = pt_type0.split('pt ')\n",
    "            pt0 = int(pt_)\n",
    "            info = {\n",
    "                'team': team0,\n",
    "                'opponent': opp0,\n",
    "                'made': made0,\n",
    "                'x': bottom0,\n",
    "                'y': left0,\n",
    "                'num': num0,\n",
    "                'player': player0,\n",
    "                'points': pt0,\n",
    "                'shot_type': sh_type0,\n",
    "                'date': date,\n",
    "                'venue': venue\n",
    "            }\n",
    "            fg_list.append(info)"
   ]
  },
  {
   "cell_type": "markdown",
   "metadata": {},
   "source": [
    "### Save to CSV"
   ]
  },
  {
   "cell_type": "code",
   "execution_count": null,
   "metadata": {},
   "outputs": [],
   "source": [
    "with open('fg.csv', 'w', encoding='utf8', newline='') as output_file:\n",
    "    fc = csv.DictWriter(output_file, \n",
    "                        fieldnames=fg_list[0].keys(),\n",
    "                       )\n",
    "    fc.writeheader()\n",
    "    fc.writerows(fg_list)"
   ]
  }
 ],
 "metadata": {
  "kernelspec": {
   "display_name": "Python 3",
   "language": "python",
   "name": "python3"
  },
  "language_info": {
   "codemirror_mode": {
    "name": "ipython",
    "version": 3
   },
   "file_extension": ".py",
   "mimetype": "text/x-python",
   "name": "python",
   "nbconvert_exporter": "python",
   "pygments_lexer": "ipython3",
   "version": "3.8.3"
  }
 },
 "nbformat": 4,
 "nbformat_minor": 4
}
